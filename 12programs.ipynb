{
 "cells": [
  {
   "cell_type": "code",
   "execution_count": 1,
   "id": "b957e980",
   "metadata": {},
   "outputs": [
    {
     "name": "stdout",
     "output_type": "stream",
     "text": [
      "before function call type of a :  <class 'int'>\n",
      "before function call type of a :  <class 'str'>\n",
      "after function call type of a :  <class 'str'>\n",
      "after function call type of a :  <class 'int'>\n"
     ]
    }
   ],
   "source": [
    "def int_to_string(num):\n",
    "    return str(num)\n",
    "def string_to_int(strnum):\n",
    "    return int(strnum)\n",
    "a=5\n",
    "b=\"123\"\n",
    "print(\"before function call type of a : \",type(a))\n",
    "print(\"before function call type of a : \",type(b))\n",
    "a1=int_to_string(a)\n",
    "b1=string_to_int(b)\n",
    "print(\"after function call type of a : \",type(a1))\n",
    "print(\"after function call type of a : \",type(b1))\n"
   ]
  },
  {
   "cell_type": "code",
   "execution_count": 3,
   "id": "c8a23f23",
   "metadata": {},
   "outputs": [
    {
     "name": "stdout",
     "output_type": "stream",
     "text": [
      "Enter the number : 1000\n",
      "CONGRATS\n",
      "HAVE A NICE DAY\n"
     ]
    }
   ],
   "source": [
    "def checkVal(num):\n",
    "    if num>100:\n",
    "        print(\"CONGRATS\")\n",
    "    print(\"HAVE A NICE DAY\")\n",
    "a=int(input(\"Enter the number : \"))\n",
    "checkVal(a)"
   ]
  },
  {
   "cell_type": "code",
   "execution_count": 4,
   "id": "3e99031b",
   "metadata": {},
   "outputs": [
    {
     "name": "stdout",
     "output_type": "stream",
     "text": [
      "Enter the mark-1 : 10\n",
      "Enter the mark-2 : 10\n",
      "(mark-1,mark-2)= (20, 30)\n"
     ]
    }
   ],
   "source": [
    "a=int(input(\"Enter the mark-1 : \"))\n",
    "b=int(input(\"Enter the mark-2 : \"))\n",
    "def addMark(m1,m2):\n",
    "    m1+=10\n",
    "    m2+=20\n",
    "    return m1,m2\n",
    "val=addMark(a,b)\n",
    "print(\"(mark-1,mark-2)=\",val)\n"
   ]
  },
  {
   "cell_type": "code",
   "execution_count": 5,
   "id": "591d8ec6",
   "metadata": {},
   "outputs": [
    {
     "name": "stdout",
     "output_type": "stream",
     "text": [
      "Enter the Product code : 123\n",
      "Enter the Product name : biscuit\n",
      "Enter the Product price : 35\n",
      "The biscuit with 123 is sold at Rs.35\n"
     ]
    }
   ],
   "source": [
    "a=int(input(\"Enter the Product code : \"))\n",
    "b=str(input(\"Enter the Product name : \"))\n",
    "c=int(input(\"Enter the Product price : \"))\n",
    "def prodDetails(code,name,price):\n",
    "    print(f\"The {name} with {code} is sold at Rs.{price}\")\n",
    "prodDetails(a,b,c)"
   ]
  },
  {
   "cell_type": "code",
   "execution_count": 6,
   "id": "d00a0e40",
   "metadata": {},
   "outputs": [
    {
     "name": "stdout",
     "output_type": "stream",
     "text": [
      "Enter the first letter of name : a\n",
      "ASIL\n"
     ]
    }
   ],
   "source": [
    "a=input(\"Enter the first letter of name : \").lower()\n",
    "def askFrnd(firstLetter):\n",
    "    if firstLetter=='r':\n",
    "        print(\"RANJAN\")\n",
    "    elif firstLetter=='a':\n",
    "        print(\"ASIL\")\n",
    "    elif firstLetter=='s':\n",
    "        print(\"SILVESTER\")\n",
    "    else:\n",
    "        print(\"Try another letter\")\n",
    "askFrnd(a)"
   ]
  },
  {
   "cell_type": "code",
   "execution_count": 7,
   "id": "5abf7406",
   "metadata": {},
   "outputs": [
    {
     "name": "stdout",
     "output_type": "stream",
     "text": [
      "Enter the value : 2\n",
      "4\n",
      "Enter the value : 5\n",
      "25\n",
      "Enter the value : 7\n",
      "49\n",
      "Enter the value : 8\n",
      "64\n",
      "Enter the value : 9\n",
      "81\n"
     ]
    }
   ],
   "source": [
    "def squareVal():\n",
    "    for i in range(5):\n",
    "        val=int(input(\"Enter the value : \"))\n",
    "        print(val ** 2)\n",
    "squareVal()"
   ]
  },
  {
   "cell_type": "code",
   "execution_count": 10,
   "id": "7864d9cb",
   "metadata": {},
   "outputs": [
    {
     "name": "stdout",
     "output_type": "stream",
     "text": [
      "character S:  True\n",
      "character T:  False\n"
     ]
    }
   ],
   "source": [
    "string=\"JOSEPH\"\n",
    "def existence(x):\n",
    "    print(\"character S: \",'S' in x)\n",
    "    print(\"character T: \",'T' in x)\n",
    "existence(string)"
   ]
  },
  {
   "cell_type": "code",
   "execution_count": 11,
   "id": "275def23",
   "metadata": {},
   "outputs": [
    {
     "name": "stdout",
     "output_type": "stream",
     "text": [
      "Enter number-1 : 23\n",
      "Enter number-2 : 45\n",
      "Enter number-3 : 80\n",
      "The Biggest of three is :  80\n"
     ]
    }
   ],
   "source": [
    "x=int(input(\"Enter number-1 : \"))\n",
    "y=int(input(\"Enter number-2 : \"))\n",
    "z=int(input(\"Enter number-3 : \"))\n",
    "big=max(x,y,z)\n",
    "print(\"The Biggest of three is : \",big)\n"
   ]
  },
  {
   "cell_type": "code",
   "execution_count": 19,
   "id": "7e678455",
   "metadata": {},
   "outputs": [
    {
     "name": "stdout",
     "output_type": "stream",
     "text": [
      "Enter the value : \n",
      "Enter the value : 34\n",
      "Enter the value : 23\n",
      "Enter the value : 10\n",
      "Enter the value : 3\n",
      "Enter the value : 48\n",
      "The count of greater than 10 are  3\n"
     ]
    }
   ],
   "source": [
    "def countVal():\n",
    "    count=0\n",
    "    print(\"Enter the value : \")\n",
    "    for i in range(5):\n",
    "        x=int(input(\"Enter the value : \"))\n",
    "        if x>10:\n",
    "            count+=1\n",
    "    print(\"The count of greater than 10 are \", count)\n",
    "countVal()"
   ]
  },
  {
   "cell_type": "code",
   "execution_count": 15,
   "id": "46ccdd18",
   "metadata": {},
   "outputs": [
    {
     "name": "stdout",
     "output_type": "stream",
     "text": [
      "daniel benni\n"
     ]
    }
   ],
   "source": [
    "fn=\"daniel\"\n",
    "ln=\"benni\"\n",
    "def concat(firstName,lastName):\n",
    "    print(firstName+\" \"+lastName)\n",
    "concat(fn,ln)\n"
   ]
  },
  {
   "cell_type": "code",
   "execution_count": 16,
   "id": "7b989bc9",
   "metadata": {},
   "outputs": [
    {
     "name": "stdout",
     "output_type": "stream",
     "text": [
      "Enter the value : 18\n",
      "The number 18 is divisible by both 2 and 3\n"
     ]
    }
   ],
   "source": [
    "val=int(input(\"Enter the value : \"))\n",
    "def divisible(num):\n",
    "    if num%2==0 and num%3==0:\n",
    "        print(f\"The number {num} is divisible by both 2 and 3\")\n",
    "    else:\n",
    "        print(f\"The number {num} is not divisible by both 2 and 3\")\n",
    "divisible(val)\n"
   ]
  },
  {
   "cell_type": "code",
   "execution_count": 18,
   "id": "f97727de",
   "metadata": {},
   "outputs": [
    {
     "name": "stdout",
     "output_type": "stream",
     "text": [
      "The sum of even numbers between 100 and 200 id  7650\n"
     ]
    }
   ],
   "source": [
    "def sum_of_even():\n",
    "    val=sum(range(100,201,2))\n",
    "    print(\"The sum of even numbers between 100 and 200 id \",val)\n",
    "sum_of_even()"
   ]
  },
  {
   "cell_type": "code",
   "execution_count": null,
   "id": "a70083b0",
   "metadata": {},
   "outputs": [],
   "source": []
  }
 ],
 "metadata": {
  "kernelspec": {
   "display_name": "Python 3 (ipykernel)",
   "language": "python",
   "name": "python3"
  },
  "language_info": {
   "codemirror_mode": {
    "name": "ipython",
    "version": 3
   },
   "file_extension": ".py",
   "mimetype": "text/x-python",
   "name": "python",
   "nbconvert_exporter": "python",
   "pygments_lexer": "ipython3",
   "version": "3.9.13"
  }
 },
 "nbformat": 4,
 "nbformat_minor": 5
}
